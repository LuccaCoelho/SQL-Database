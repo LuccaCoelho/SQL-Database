{
 "cells": [
  {
   "cell_type": "code",
   "execution_count": 1,
   "id": "bb83dbb4-eee2-40d8-b27e-594d04726cc8",
   "metadata": {},
   "outputs": [
    {
     "name": "stdout",
     "output_type": "stream",
     "text": [
      "Collecting mysql-connector-python\n",
      "  Downloading mysql_connector_python-9.0.0-cp312-cp312-win_amd64.whl.metadata (2.0 kB)\n",
      "Downloading mysql_connector_python-9.0.0-cp312-cp312-win_amd64.whl (14.3 MB)\n",
      "   ---------------------------------------- 0.0/14.3 MB ? eta -:--:--\n",
      "   ---------------------------------------- 0.0/14.3 MB 660.6 kB/s eta 0:00:22\n",
      "   ---------------------------------------- 0.1/14.3 MB 919.0 kB/s eta 0:00:16\n",
      "    --------------------------------------- 0.2/14.3 MB 1.9 MB/s eta 0:00:08\n",
      "   - -------------------------------------- 0.6/14.3 MB 3.5 MB/s eta 0:00:04\n",
      "   --- ------------------------------------ 1.4/14.3 MB 6.4 MB/s eta 0:00:03\n",
      "   ------- -------------------------------- 2.8/14.3 MB 10.5 MB/s eta 0:00:02\n",
      "   ---------- ----------------------------- 3.9/14.3 MB 12.5 MB/s eta 0:00:01\n",
      "   --------------- ------------------------ 5.4/14.3 MB 15.0 MB/s eta 0:00:01\n",
      "   ---------------- ----------------------- 5.8/14.3 MB 14.4 MB/s eta 0:00:01\n",
      "   ------------------- -------------------- 7.2/14.3 MB 15.8 MB/s eta 0:00:01\n",
      "   ------------------------ --------------- 8.6/14.3 MB 17.3 MB/s eta 0:00:01\n",
      "   ------------------------ --------------- 8.9/14.3 MB 16.3 MB/s eta 0:00:01\n",
      "   ----------------------------- ---------- 10.4/14.3 MB 21.1 MB/s eta 0:00:01\n",
      "   -------------------------------- ------- 11.8/14.3 MB 24.2 MB/s eta 0:00:01\n",
      "   ------------------------------------ --- 13.0/14.3 MB 25.1 MB/s eta 0:00:01\n",
      "   ------------------------------------- -- 13.5/14.3 MB 23.4 MB/s eta 0:00:01\n",
      "   ---------------------------------------  14.3/14.3 MB 23.4 MB/s eta 0:00:01\n",
      "   ---------------------------------------  14.3/14.3 MB 23.4 MB/s eta 0:00:01\n",
      "   ---------------------------------------- 14.3/14.3 MB 19.8 MB/s eta 0:00:00\n",
      "Installing collected packages: mysql-connector-python\n",
      "Successfully installed mysql-connector-python-9.0.0\n"
     ]
    }
   ],
   "source": [
    "!pip install mysql-connector-python\n"
   ]
  },
  {
   "cell_type": "code",
   "execution_count": 2,
   "id": "19885b9f-bf51-4ade-8054-9ab4ee2e115f",
   "metadata": {},
   "outputs": [],
   "source": [
    "import mysql.connector as connector"
   ]
  },
  {
   "cell_type": "code",
   "execution_count": 6,
   "id": "0554c900-4acb-45be-ba4e-75e403aa17ea",
   "metadata": {},
   "outputs": [],
   "source": [
    "connection = connector.connect(user = \"root\", password = \"07Mamonas123\")"
   ]
  },
  {
   "cell_type": "code",
   "execution_count": 7,
   "id": "fa24601e-da2f-433e-8f35-3df701ec52e0",
   "metadata": {},
   "outputs": [],
   "source": [
    "connection = connector.connect(user = \"root\", password = \"07Mamonas123\", db = \"littlelemondb\") "
   ]
  },
  {
   "cell_type": "code",
   "execution_count": 9,
   "id": "c5ea89ba-c315-431c-94c6-0c6078f3247a",
   "metadata": {},
   "outputs": [],
   "source": [
    "cursor = connection.cursor()"
   ]
  },
  {
   "cell_type": "code",
   "execution_count": 10,
   "id": "6cb8b1e2-9322-4427-839e-8d96822fa6f5",
   "metadata": {},
   "outputs": [],
   "source": [
    "show_tables_query = \"SHOW tables\" \n",
    "cursor.execute(show_tables_query)"
   ]
  },
  {
   "cell_type": "code",
   "execution_count": 11,
   "id": "dec488d9-fab1-4c14-ac48-63ca6fe7e299",
   "metadata": {},
   "outputs": [
    {
     "name": "stdout",
     "output_type": "stream",
     "text": [
      "('bookings',)\n",
      "('customers',)\n",
      "('menu',)\n",
      "('menuitems',)\n",
      "('order_delivery_status',)\n",
      "('orders',)\n",
      "('orders_menu_view',)\n",
      "('ordersview',)\n",
      "('ordersview150',)\n",
      "('staff_info',)\n"
     ]
    }
   ],
   "source": [
    "results = cursor.fetchall()\n",
    "\n",
    "# Print the results\n",
    "for result in results:\n",
    "    print(result)"
   ]
  },
  {
   "cell_type": "code",
   "execution_count": 15,
   "id": "fbdb450c-05bc-4910-aff7-22820a76ae8e",
   "metadata": {},
   "outputs": [
    {
     "name": "stdout",
     "output_type": "stream",
     "text": [
      "There are 7 customers with more than $60 of spending...\n",
      "Printing the top 10 spenders...\n",
      "==================================================\n",
      "Full Name: \t 140.00\n",
      "Email: \t\t John Doe\n",
      "Phone Number: \t 1234567890\n",
      "==================================================\n",
      "Full Name: \t 80.00\n",
      "Email: \t\t Jane Smith\n",
      "Phone Number: \t 1234567891\n",
      "==================================================\n",
      "Full Name: \t 120.00\n",
      "Email: \t\t Bob Brown\n",
      "Phone Number: \t 1234567893\n",
      "==================================================\n",
      "Full Name: \t 200.00\n",
      "Email: \t\t David Evans\n",
      "Phone Number: \t 1234567895\n",
      "==================================================\n",
      "Full Name: \t 100.00\n",
      "Email: \t\t Grace Hill\n",
      "Phone Number: \t 1234567898\n",
      "==================================================\n",
      "Full Name: \t 200.00\n",
      "Email: \t\t Jack Martin\n",
      "Phone Number: \t 1234567801\n",
      "==================================================\n",
      "Full Name: \t 160.00\n",
      "Email: \t\t Mia Scott\n",
      "Phone Number: \t 1234567804\n"
     ]
    }
   ],
   "source": [
    "query = \"\"\"\n",
    "SELECT orders.TotalCost, customers.FullName, customers.PhoneNumber, customers.Email\n",
    "FROM orders\n",
    "INNER JOIN customers ON orders.customers_CustomerID = customers.CustomerID\n",
    "WHERE Orders.TotalCost > 60;\n",
    "\"\"\"\n",
    "\n",
    "cursor.execute(query)\n",
    "\n",
    "# Fetch all results from the executed query\n",
    "results = cursor.fetchall()\n",
    "\n",
    "print(f'There are {len(results)} customers with more than $60 of spending...')\n",
    "print('Printing the top 10 spenders...')\n",
    "\n",
    "for customer in results[:10]:\n",
    "    print('=' * 50)\n",
    "    print(f'Full Name: \\t {customer[0]}')\n",
    "    print(f'Email: \\t\\t {customer[1]}')\n",
    "    print(f'Phone Number: \\t {customer[2]}')"
   ]
  },
  {
   "cell_type": "code",
   "execution_count": null,
   "id": "e6d1faab-5b97-4097-a448-15e56836385a",
   "metadata": {},
   "outputs": [],
   "source": []
  }
 ],
 "metadata": {
  "kernelspec": {
   "display_name": "Python 3 (ipykernel)",
   "language": "python",
   "name": "python3"
  },
  "language_info": {
   "codemirror_mode": {
    "name": "ipython",
    "version": 3
   },
   "file_extension": ".py",
   "mimetype": "text/x-python",
   "name": "python",
   "nbconvert_exporter": "python",
   "pygments_lexer": "ipython3",
   "version": "3.12.4"
  }
 },
 "nbformat": 4,
 "nbformat_minor": 5
}
